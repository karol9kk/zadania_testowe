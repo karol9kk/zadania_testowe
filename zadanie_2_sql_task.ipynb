{
 "cells": [
  {
   "cell_type": "markdown",
   "metadata": {},
   "source": [
    "Zad 1 . Przygotuj zapytanie SQL wybierające 10 najczęściej wystawionych marek w serwisie."
   ]
  },
  {
   "cell_type": "code",
   "execution_count": null,
   "metadata": {
    "vscode": {
     "languageId": "sql"
    }
   },
   "outputs": [],
   "source": [
    "SELECT brand, COUNT(*) AS count\n",
    "FROM cars\n",
    "GROUP BY brand\n",
    "ORDER BY count DESC\n",
    "LIMIT 10;"
   ]
  },
  {
   "cell_type": "markdown",
   "metadata": {},
   "source": [
    "Zad 2. Przygotuj zapytanie SQL, które wybierze przeciętnie 3 najdroższe modele marki bmw z rocznika 2017. Ile wynosi średnia cena tych aut w danym okresie?"
   ]
  },
  {
   "cell_type": "code",
   "execution_count": null,
   "metadata": {
    "vscode": {
     "languageId": "sql"
    }
   },
   "outputs": [],
   "source": [
    "SELECT AVG(avg_price) AS average_price\n",
    "FROM (\n",
    "    SELECT model, AVG(price) AS avg_price\n",
    "    FROM cars\n",
    "    WHERE brand = 'bmw' AND year = 2017\n",
    "    GROUP BY model\n",
    "    ORDER BY avg_price DESC\n",
    "    LIMIT 3\n",
    ") AS avg_3_model_price;\n"
   ]
  },
  {
   "cell_type": "markdown",
   "metadata": {},
   "source": [
    "Zad 3. Zaproponuj i przygotuj zapytanie SQL wybierające z populacji ogłoszeń listę propozycji samochodów dla klienta województwa pomorskiego poszukującego nowego auta niemieckiej marki należacej do klasy premium.  W kilku słowach uzasadnij wybrane kryteria."
   ]
  },
  {
   "cell_type": "code",
   "execution_count": null,
   "metadata": {
    "vscode": {
     "languageId": "sql"
    }
   },
   "outputs": [],
   "source": [
    "SELECT id_ad, region, brand, model, mileage, year, price, fuel_type, body_type\n",
    "FROM cars\n",
    "WHERE region = 'pomorskie'\n",
    "  AND year >= 2016\n",
    "  AND brand IN ('bmw', 'audi', 'mercedes-benz', 'porsche')\n",
    "  AND mileage <= 50\n",
    "  AND price >= 100000\n",
    "ORDER BY price DESC;"
   ]
  },
  {
   "cell_type": "markdown",
   "metadata": {},
   "source": [
    "Oczywistym kryterium wyboru jest region województwa pomorskiego. Następnie filtrujemy auta, które są z roku 2016 lub wyżej (najnowsze auto w zbiorze danych jest z 2017 roku, więc wybieram auto maksymalnie 2 letnie). Następnie wybieram niemieckie marki premium, jakimi są: Audi, BMW, Mercedes-Benz, Porsche. Różne marki i dealerzy mogą mieć nieco różne standardy co do tego, ile kilometrów \"fabrycznych\" jest akceptowalne przy sprzedaży nowego auta, więc przyjąłem maksymalny przebieg wynoszący 50km. Klient poszukuje auta klasy premium, więc wyszukuję pojazdów o cenie nie mniejszej niż 1000000 zł."
   ]
  }
 ],
 "metadata": {
  "kernelspec": {
   "display_name": "Python 3",
   "language": "python",
   "name": "python3"
  },
  "language_info": {
   "codemirror_mode": {
    "name": "ipython",
    "version": 3
   },
   "file_extension": ".py",
   "mimetype": "text/x-python",
   "name": "python",
   "nbconvert_exporter": "python",
   "pygments_lexer": "ipython3",
   "version": "3.10.6"
  }
 },
 "nbformat": 4,
 "nbformat_minor": 2
}
